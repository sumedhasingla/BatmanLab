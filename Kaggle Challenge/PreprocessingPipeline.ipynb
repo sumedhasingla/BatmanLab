{
 "metadata": {
  "name": "",
  "signature": "sha256:aa9d14b469ebccc6df1dcb28413f95a96ee84b9562b7e677be661cc14049c151"
 },
 "nbformat": 3,
 "nbformat_minor": 0,
 "worksheets": [
  {
   "cells": [
    {
     "cell_type": "markdown",
     "metadata": {},
     "source": [
      "This script will go through the pre-processing pipeline for the Kaggle Data Science Bowl 2017 challenge. The script assumes for each of the samples, a partial lung label map has been generated using the CIP (Chest Imaging Platform) command line tool: \"GeneratePartialLungLabelMap\".\n",
      "Below is the list of Python dependencies to run this program."
     ]
    },
    {
     "cell_type": "code",
     "collapsed": false,
     "input": [
      "import os\n",
      "import sys\n",
      "import math\n",
      "import pdb\n",
      "import numpy as np\n",
      "import SimpleITK as sitk\n",
      "from cip_python.input_output.image_reader_writer import ImageReaderWriter\n",
      "from cip_python.segmentation.grid_segmenter import GridSegmenter"
     ],
     "language": "python",
     "metadata": {},
     "outputs": []
    },
    {
     "cell_type": "markdown",
     "metadata": {},
     "source": [
      "The partial lung label map generated using the commad line tool \"GeneratePartialLungLabelMap\" assigns multiple labels to various regions of the lung. The below function takes the label map as input and convert it into a binary label map where a label 1 is assign to any region marked as lung and a label of 0 is assigned to background. "
     ]
    },
    {
     "cell_type": "code",
     "collapsed": false,
     "input": [
      "def computeBinaryLungLabelMap(fileRoot, fileName):\n",
      "    imageFilePath = os.path.join(fileRoot, fileName)\n",
      "    inputMap = sitk.ReadImage(imageFilePath)\n",
      "    #Binary Threshold Image Filter\n",
      "    thresholdFilter = sitk.BinaryThresholdImageFilter()\n",
      "    thresholdFilter.SetLowerThreshold(1)\n",
      "    thresholdFilter.SetUpperThreshold(1024)\n",
      "    thresholdFilter.SetOutsideValue(0)\n",
      "    thresholdFilter.SetInsideValue(1)\n",
      "    thresholdInputMap = thresholdFilter.Execute(inputMap)\n",
      "\n",
      "    outputFileName = fileName.split('_')[0] + '_BinaryLungLabelMap.nrrd'\n",
      "    outputFilePath = os.path.join(fileRoot, outputFileName)\n",
      "    sitk.WriteImage(thresholdInputMap, outputFilePath)\n",
      "    return outputFileName"
     ],
     "language": "python",
     "metadata": {},
     "outputs": []
    },
    {
     "cell_type": "markdown",
     "metadata": {},
     "source": [
      "The below function, takes an image volume as input and threshold it such that the intensity values are between lower and upper threshold. All the voxels with value less than or equal to \"lower\" are assigned a new value equal to lower. All the voxels with value more than equal to \"upper\" are assigned a new value equal to upper."
     ]
    },
    {
     "cell_type": "code",
     "collapsed": false,
     "input": [
      "def thresholdImageVolume(fileRoot, inputVolumeName, lower, upper):\n",
      "    imageFilePath = os.path.join(fileRoot, inputVolumeName)\n",
      "    inputVolume = sitk.ReadImage(imageFilePath)\n",
      "    image_io = ImageReaderWriter()\n",
      "    ct_array = image_io.sitkImage_to_numpy(inputVolume)\n",
      "    ct_array[ct_array >= upper] = upper\n",
      "    ct_array[ct_array <= lower] = lower\n",
      "    metainfo=dict()\n",
      "    metainfo['space origin']=inputVolume.GetOrigin()\n",
      "    metainfo['spacing']=inputVolume.GetSpacing()\n",
      "    metainfo['space directions']=inputVolume.GetDirection()\n",
      "    outputVolume = image_io.numpy_to_sitkImage(ct_array, metainfo)\n",
      "    outputFileName = inputVolumeName.split('.')[0] + '_threshold.nrrd'\n",
      "    outputFilePath = os.path.join(fileRoot, outputFileName)\n",
      "    image_io.write(outputVolume,outputFilePath)\n",
      "    return outputFileName"
     ],
     "language": "python",
     "metadata": {},
     "outputs": []
    },
    {
     "cell_type": "markdown",
     "metadata": {},
     "source": [
      "It is still very common to find medical image datasets that have been acquired with large inter-slice spacings that result in voxels with anisotropic shape. A scan may have a pixel spacing of [0.5, 0.5, 2.0], which means that the distance between slices is 2.0 mm. For a different scan this may be [0.725, 0.725, 1.75], this can be problematic for automatic analysis. \n",
      "\n",
      "Before doing any kind of analysis, we first make the spacing in all the 3 directions same by performing isotropic resampling."
     ]
    },
    {
     "cell_type": "code",
     "collapsed": false,
     "input": [
      "def convertToIsotropicVolume(fileRoot, fileName, interpolationMethod):\n",
      "    '''\n",
      "    Referrence: https://itk.org/Doxygen/html/Examples_2Filtering_2ResampleVolumesToBeIsotropic_8cxx-example.html\n",
      "    '''\n",
      "    imageFilePath = os.path.join(fileRoot, fileName)\n",
      "    inputVolume = sitk.ReadImage(imageFilePath)\n",
      "    inputSpacing = inputVolume.GetSpacing()\n",
      "    inputSize = inputVolume.GetSize()\n",
      "    #Resample the images to make them iso-tropic\n",
      "    resampleFilter = sitk.ResampleImageFilter()\n",
      "    T = sitk.Transform()\n",
      "    T.SetIdentity()\n",
      "    resampleFilter.SetTransform(T)\n",
      "    resampleFilter.SetInterpolator(interpolationMethod)\n",
      "    resampleFilter.SetDefaultPixelValue( 255 );\n",
      "    isoSpacing = 1 #math.sqrt(inputSpacing[2] * inputSpacing[0])\n",
      "    resampleFilter.SetOutputSpacing((isoSpacing,isoSpacing,isoSpacing))\n",
      "    resampleFilter.SetOutputOrigin(inputVolume.GetOrigin())\n",
      "    resampleFilter.SetOutputDirection(inputVolume.GetDirection())\n",
      "    dx = int(inputSize[0] * inputSpacing[0] / isoSpacing)\n",
      "    dy = int(inputSize[1] * inputSpacing[1] / isoSpacing)\n",
      "    dz = int((inputSize[2] - 1 ) * inputSpacing[2] / isoSpacing)\n",
      "    resampleFilter.SetSize((dx,dy,dz))\n",
      "    resampleVolume = resampleFilter.Execute(inputVolume)\n",
      "    \n",
      "    outputFileName = fileName.split('.')[0] + '_isotropic.nrrd'\n",
      "    outputFilePath = os.path.join(fileRoot, outputFileName)\n",
      "    sitk.WriteImage(resampleVolume, outputFilePath)\n",
      "    return outputFileName"
     ],
     "language": "python",
     "metadata": {},
     "outputs": []
    },
    {
     "cell_type": "markdown",
     "metadata": {},
     "source": [
      "Given a binary mask and an input volume, the below function creates a masked output, where the input volume values are retain in regions where mask is 1. In the regions where mask is 0, the output volume will have value = outside."
     ]
    },
    {
     "cell_type": "code",
     "collapsed": false,
     "input": [
      "def maskImageVolume(fileRoot, inputVolumeName, maskVolumeName, outside):\n",
      "    imageFilePath = os.path.join(fileRoot, inputVolumeName)\n",
      "    inputVolume = sitk.ReadImage(imageFilePath)\n",
      "    imageFilePath = os.path.join(fileRoot, maskVolumeName)\n",
      "    maskVolume = sitk.ReadImage(imageFilePath)\n",
      "    maskFilter = sitk.MaskImageFilter()\n",
      "    maskFilter.SetOutsideValue(outside)\n",
      "    maskedOutputVolume = maskFilter.Execute(inputVolume,maskVolume )\n",
      "    outputFileName = inputVolumeName.split('.')[0] + '_Masked.nrrd'\n",
      "    outputFilePath = os.path.join(fileRoot, outputFileName)\n",
      "    sitk.WriteImage(maskedOutputVolume, outputFilePath)\n",
      "    return outputFileNam"
     ],
     "language": "python",
     "metadata": {},
     "outputs": []
    },
    {
     "cell_type": "markdown",
     "metadata": {},
     "source": [
      "Given an input volume, the below function creats an output volume where each voxel in input volume is assigned to a patch id. The input volume is divided into a grid and each grid cell is assigned a unique patch id.\n",
      "\n",
      "The size of the grid cell is specified by xSize, ySize and zOffset"
     ]
    },
    {
     "cell_type": "code",
     "collapsed": false,
     "input": [
      "def gridSegmentation(fileRoot, inputVolumeName, xSize=31, ySize=31, zOffset=10):\n",
      "    '''\n",
      "    Referrence: https://github.com/acil-bwh/ChestImagingPlatform/blob/develop/cip_python/segmentation/grid_segmenter.py\n",
      "    '''\n",
      "    imageFilePath = os.path.join(fileRoot, inputVolumeName)\n",
      "    inputVolume = sitk.ReadImage(imageFilePath)\n",
      "    image_io = ImageReaderWriter()\n",
      "    ct_array = image_io.sitkImage_to_numpy(inputVolume)\n",
      "    grid_segmenter = GridSegmenter(input_dimensions=None, ct=ct_array, x_size=xSize, y_size=ySize, z_offset=zOffset)\n",
      "    grid_segmentation = grid_segmenter.execute()\n",
      "    metainfo=dict()\n",
      "    metainfo['space origin']=inputVolume.GetOrigin()\n",
      "    metainfo['spacing']=inputVolume.GetSpacing()\n",
      "    metainfo['space directions']=inputVolume.GetDirection()\n",
      "    outputVolume = image_io.numpy_to_sitkImage(grid_segmentation, metainfo)\n",
      "    outputFileName = inputVolumeName.split('.')[0] + '_GridSegmentation.nrrd'\n",
      "    outputFilePath = os.path.join(fileRoot, outputFileName)\n",
      "    image_io.write(outputVolume,outputFilePath)\n",
      "    return outputFileName"
     ],
     "language": "python",
     "metadata": {},
     "outputs": []
    },
    {
     "cell_type": "markdown",
     "metadata": {},
     "source": [
      "Given an input volume, and a grid label map, this function divides the input volume in to patches. Each patch corresponds to the grid cell with same patch id. We consider only those patches which have useful information, i.e the percentage of volume of the patch which is  background is below some threshold. We also consider only those patches that are of same size as defined by the patchSize."
     ]
    },
    {
     "cell_type": "code",
     "collapsed": false,
     "input": [
      "def createPatches(fileRoot, inputVolumeName, gridSegmentationVolume, outside, threshold, patchSize=9610):  #9610 = 31*31 * 10\n",
      "    image_io = ImageReaderWriter()\n",
      "    imageFilePath = os.path.join(fileRoot, inputVolumeName)\n",
      "    ct_array_image,metainfo = image_io.read_in_numpy(imageFilePath)\n",
      "    \n",
      "    imageFilePath = os.path.join(fileRoot, gridSegmentationVolume)\n",
      "    ct_array_grid,metainfo1 = image_io.read_in_numpy(imageFilePath)\n",
      "    \n",
      "    minPatchId = int(np.min(ct_array_grid))\n",
      "    maxPatchId = int(np.max(ct_array_grid))\n",
      "    all_patches = []\n",
      "    for i in range(minPatchId, maxPatchId+1):\n",
      "        index_grid = np.where(ct_array_grid == i)\n",
      "        patch =  ct_array_image[index_grid]\n",
      "        #Find the volume of patch that is outside the useful content\n",
      "        noOfOutsidePixels = len(np.where(patch == outside)[0])\n",
      "        totalNumberOfPixels = patch.size\n",
      "        percentage = float(noOfOutsidePixels)/totalNumberOfPixels\n",
      "        n = patch.size\n",
      "        if percentage <= threshold and n == patchSize: \n",
      "            all_patches.append(patch)\n",
      "    all_patches = np.array(all_patches)\n",
      "    print all_patches.shape\n",
      "    outputFileName = inputVolumeName.split('.')[0] + '_patches.npy'\n",
      "    outputFilePath = os.path.join(fileRoot, outputFileName)\n",
      "    np.save(outputFilePath, all_patches)\n",
      "    \n",
      "    return outputFileName"
     ],
     "language": "python",
     "metadata": {},
     "outputs": []
    },
    {
     "cell_type": "markdown",
     "metadata": {},
     "source": [
      "One of the clinical parameter for evaluating the CT image of the lung, is to consider the percentage of volume of the lung CT with intenisty value less than -910. The below function evaluates the percentage of input volume that has intensity less than or equal to given threshold. Here we only consider those pixels which are part of the lung segmentation."
     ]
    },
    {
     "cell_type": "code",
     "collapsed": false,
     "input": [
      "def baselineValue(fileRoot, inputVolumeName, threshold, outside):\n",
      "    image_io = ImageReaderWriter()\n",
      "    imageFilePath = os.path.join(fileRoot, inputVolumeName)\n",
      "    ct_array_image, metainfo = image_io.read_in_numpy(imageFilePath)\n",
      "    noOfOutsidePixels = len(np.where((ct_array_image <= threshold) & (ct_array_image > outside))[0])\n",
      "    totalNumberOfPixels = len(np.where(ct_array_image > outside)[0])\n",
      "    percentage = float(noOfOutsidePixels)/totalNumberOfPixels\n",
      "    outputFileName = inputVolumeName.split('.')[0] + '_ClinicalThreshold.txt'\n",
      "    outputFilePath = os.path.join(fileRoot, outputFileName)\n",
      "    line = \"Percentage of volume with intensity below the clinical threshold \" + str(threshold) + \" is: \" + str(percentage)\n",
      "    outfile = open(outputFilePath, 'w')\n",
      "    outfile.write(line)\n",
      "    outfile.close() "
     ],
     "language": "python",
     "metadata": {},
     "outputs": []
    },
    {
     "cell_type": "markdown",
     "metadata": {},
     "source": [
      "Preprocessing"
     ]
    },
    {
     "cell_type": "code",
     "collapsed": false,
     "input": [
      "\n",
      "#directory = '/pylon2/ms4s88p/jms565/projects/KaggleLungCancer/'\n",
      "directory = '/pylon2/ms4s88p/singla/K0026/'\n",
      "#Parse through all the files in the training dataset.\n",
      "for fileRoot, directories, files in os.walk(directory):\n",
      "    inputCT = \"\"\n",
      "    partialLungLabelMap = \"\"\n",
      "    for f in files:  \n",
      "        if \"original_3D\" in f:\n",
      "            inputCT = f\n",
      "            print inputCT\n",
      "        if \"partialLungLabelMap\" in f:\n",
      "            print f\n",
      "            partialLungLabelMap = f\n",
      "    if inputCT != \"\" and partialLungLabelMap != \"\":\n",
      "        # Convert the input CT to isotropic volume with same spacing in all three directions\n",
      "        isotropicCT = convertToIsotropicVolume(fileRoot, inputCT, sitk.sitkCosineWindowedSinc) \n",
      "\n",
      "        # Threshold the isotropic CT to have intensity values between [-1024, 200]\n",
      "        threshold_isotropicCT = thresholdImageVolumne(fileRoot, isotropicCT, -1024, 200) \n",
      "\n",
      "        # Convert the partial lung label map into a binary label map for lung vs not lung.\n",
      "        binaryLabelMap = computeBinaryLungLabelMap(fileRoot, partialLungLabelMap)\n",
      "\n",
      "        # Convert the binary label map to be isotropic to match the CT in spacing. \n",
      "        isotropic_BinaryLabelMap = convertToIsotropicVolume(fileRoot, binaryLabelMap, sitk.sitkNearestNeighbor)\n",
      "\n",
      "        # Use the binary label map to maked out the lung region from the chest CT. the outside pixels are set to -1030\n",
      "        maskedCT = maskImageVolume(fileRoot, threshold_isotropicCT, isotropic_BinaryLabelMap, -1030) \n",
      "\n",
      "        # Calculate the precentage of volume of masked lung that have intensity value below threshold: -910\n",
      "        baselineValue(fileRoot, maskedCT, -910, -1030)\n",
      "\n",
      "        # Divide the masked lung region of the CT into grids, each grid cell have a unique patch id.\n",
      "        gridSegmentedMaskedCT = gridSegmentation(fileRoot, maskedCT)\n",
      "\n",
      "        #Extract individual patches from the masked Lung CT and create a numpy array.\n",
      "        #Now each subject is represented in terms of a number of patches of same dimension.\n",
      "        patches = createPatches(fileRoot, maskedCT, gridSegmentedMaskedCT, -1030, 0.6)"
     ],
     "language": "python",
     "metadata": {},
     "outputs": [],
     "prompt_number": 5
    },
    {
     "cell_type": "code",
     "collapsed": false,
     "input": [],
     "language": "python",
     "metadata": {},
     "outputs": [],
     "prompt_number": 6
    },
    {
     "cell_type": "code",
     "collapsed": false,
     "input": [],
     "language": "python",
     "metadata": {},
     "outputs": []
    }
   ],
   "metadata": {}
  }
 ]
}